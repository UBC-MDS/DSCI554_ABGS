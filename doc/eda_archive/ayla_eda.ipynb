{
 "cells": [
  {
   "cell_type": "code",
   "execution_count": 2,
   "metadata": {},
   "outputs": [
    {
     "name": "stderr",
     "output_type": "stream",
     "text": [
      "-- Attaching packages --------------------------------------- tidyverse 1.2.1 --\n",
      "v ggplot2 3.0.0     v purrr   0.2.5\n",
      "v tibble  1.4.2     v dplyr   0.7.6\n",
      "v tidyr   0.8.1     v stringr 1.3.1\n",
      "v readr   1.1.1     v forcats 0.3.0\n",
      "-- Conflicts ------------------------------------------ tidyverse_conflicts() --\n",
      "x dplyr::filter() masks stats::filter()\n",
      "x dplyr::lag()    masks stats::lag()\n",
      "\n",
      "Attaching package: 'GGally'\n",
      "\n",
      "The following object is masked from 'package:dplyr':\n",
      "\n",
      "    nasa\n",
      "\n"
     ]
    }
   ],
   "source": [
    "# load libraries\n",
    "library(tidyverse)\n",
    "library(GGally)\n"
   ]
  },
  {
   "cell_type": "code",
   "execution_count": 7,
   "metadata": {},
   "outputs": [
    {
     "name": "stderr",
     "output_type": "stream",
     "text": [
      "Parsed with column specification:\n",
      "cols(\n",
      "  seat_pref = col_integer(),\n",
      "  comp = col_double(),\n",
      "  gender = col_integer(),\n",
      "  engage = col_double()\n",
      ")\n"
     ]
    }
   ],
   "source": [
    "data <-  read_csv(\"data/seat_tidy.csv\")  %>% \n",
    "  # convert gender seating preference to factors \n",
    "  mutate(gender = as.factor(gender),\n",
    "  seat_pref = as.factor(seat_pref)) "
   ]
  },
  {
   "cell_type": "code",
   "execution_count": 9,
   "metadata": {},
   "outputs": [
    {
     "data": {
      "text/html": [
       "<table>\n",
       "<thead><tr><th scope=col>seat_pref</th><th scope=col>comp</th><th scope=col>gender</th><th scope=col>engage</th></tr></thead>\n",
       "<tbody>\n",
       "\t<tr><td>1       </td><td>2.0     </td><td>1       </td><td>2.000000</td></tr>\n",
       "\t<tr><td>2       </td><td>3.5     </td><td>2       </td><td>2.333333</td></tr>\n",
       "\t<tr><td>2       </td><td>3.0     </td><td>2       </td><td>3.333333</td></tr>\n",
       "\t<tr><td>2       </td><td>4.0     </td><td>1       </td><td>3.666667</td></tr>\n",
       "\t<tr><td>2       </td><td>4.5     </td><td>1       </td><td>3.000000</td></tr>\n",
       "\t<tr><td>4       </td><td>1.0     </td><td>2       </td><td>3.000000</td></tr>\n",
       "\t<tr><td>2       </td><td>2.5     </td><td>2       </td><td>3.333333</td></tr>\n",
       "\t<tr><td>2       </td><td>2.5     </td><td>2       </td><td>3.333333</td></tr>\n",
       "\t<tr><td>1       </td><td>3.0     </td><td>1       </td><td>2.666667</td></tr>\n",
       "\t<tr><td>2       </td><td>3.0     </td><td>1       </td><td>2.666667</td></tr>\n",
       "</tbody>\n",
       "</table>\n"
      ],
      "text/latex": [
       "\\begin{tabular}{r|llll}\n",
       " seat\\_pref & comp & gender & engage\\\\\n",
       "\\hline\n",
       "\t 1        & 2.0      & 1        & 2.000000\\\\\n",
       "\t 2        & 3.5      & 2        & 2.333333\\\\\n",
       "\t 2        & 3.0      & 2        & 3.333333\\\\\n",
       "\t 2        & 4.0      & 1        & 3.666667\\\\\n",
       "\t 2        & 4.5      & 1        & 3.000000\\\\\n",
       "\t 4        & 1.0      & 2        & 3.000000\\\\\n",
       "\t 2        & 2.5      & 2        & 3.333333\\\\\n",
       "\t 2        & 2.5      & 2        & 3.333333\\\\\n",
       "\t 1        & 3.0      & 1        & 2.666667\\\\\n",
       "\t 2        & 3.0      & 1        & 2.666667\\\\\n",
       "\\end{tabular}\n"
      ],
      "text/markdown": [
       "\n",
       "seat_pref | comp | gender | engage | \n",
       "|---|---|---|---|---|---|---|---|---|---|\n",
       "| 1        | 2.0      | 1        | 2.000000 | \n",
       "| 2        | 3.5      | 2        | 2.333333 | \n",
       "| 2        | 3.0      | 2        | 3.333333 | \n",
       "| 2        | 4.0      | 1        | 3.666667 | \n",
       "| 2        | 4.5      | 1        | 3.000000 | \n",
       "| 4        | 1.0      | 2        | 3.000000 | \n",
       "| 2        | 2.5      | 2        | 3.333333 | \n",
       "| 2        | 2.5      | 2        | 3.333333 | \n",
       "| 1        | 3.0      | 1        | 2.666667 | \n",
       "| 2        | 3.0      | 1        | 2.666667 | \n",
       "\n",
       "\n"
      ],
      "text/plain": [
       "   seat_pref comp gender engage  \n",
       "1  1         2.0  1      2.000000\n",
       "2  2         3.5  2      2.333333\n",
       "3  2         3.0  2      3.333333\n",
       "4  2         4.0  1      3.666667\n",
       "5  2         4.5  1      3.000000\n",
       "6  4         1.0  2      3.000000\n",
       "7  2         2.5  2      3.333333\n",
       "8  2         2.5  2      3.333333\n",
       "9  1         3.0  1      2.666667\n",
       "10 2         3.0  1      2.666667"
      ]
     },
     "metadata": {},
     "output_type": "display_data"
    }
   ],
   "source": [
    "head(data, 10)"
   ]
  },
  {
   "cell_type": "code",
   "execution_count": 10,
   "metadata": {},
   "outputs": [
    {
     "name": "stdout",
     "output_type": "stream",
     "text": [
      "Classes 'tbl_df', 'tbl' and 'data.frame':\t64 obs. of  4 variables:\n",
      " $ seat_pref: Factor w/ 4 levels \"1\",\"2\",\"3\",\"4\": 1 2 2 2 2 4 2 2 1 2 ...\n",
      " $ comp     : num  2 3.5 3 4 4.5 1 2.5 2.5 3 3 ...\n",
      " $ gender   : Factor w/ 3 levels \"1\",\"2\",\"4\": 1 2 2 1 1 2 2 2 1 1 ...\n",
      " $ engage   : num  2 2.33 3.33 3.67 3 ...\n"
     ]
    }
   ],
   "source": [
    "str(data)"
   ]
  },
  {
   "cell_type": "code",
   "execution_count": 11,
   "metadata": {},
   "outputs": [
    {
     "data": {
      "text/plain": [
       " seat_pref      comp       gender     engage     \n",
       " 1:20      Min.   :1.000   1:34   Min.   :1.667  \n",
       " 2:28      1st Qu.:2.000   2:25   1st Qu.:3.000  \n",
       " 3:12      Median :3.000   4: 5   Median :3.667  \n",
       " 4: 4      Mean   :3.047          Mean   :3.661  \n",
       "           3rd Qu.:4.000          3rd Qu.:4.333  \n",
       "           Max.   :5.000          Max.   :5.000  \n",
       "                                  NA's   :1      "
      ]
     },
     "metadata": {},
     "output_type": "display_data"
    }
   ],
   "source": [
    "summary(data)"
   ]
  },
  {
   "cell_type": "code",
   "execution_count": 12,
   "metadata": {},
   "outputs": [
    {
     "data": {
      "text/html": [
       "0.184512233371993"
      ],
      "text/latex": [
       "0.184512233371993"
      ],
      "text/markdown": [
       "0.184512233371993"
      ],
      "text/plain": [
       "[1] 0.1845122"
      ]
     },
     "metadata": {},
     "output_type": "display_data"
    }
   ],
   "source": [
    "cor(x=data$comp, y=data$engage, use = \"complete.obs\")"
   ]
  },
  {
   "cell_type": "code",
   "execution_count": 13,
   "metadata": {},
   "outputs": [
    {
     "data": {
      "text/html": [
       "<table>\n",
       "<thead><tr><th scope=col>seat_pref</th><th scope=col>comp</th><th scope=col>gender</th><th scope=col>engage</th></tr></thead>\n",
       "<tbody>\n",
       "\t<tr><td>1       </td><td>2.0     </td><td>1       </td><td>2.000000</td></tr>\n",
       "\t<tr><td>2       </td><td>3.5     </td><td>2       </td><td>2.333333</td></tr>\n",
       "\t<tr><td>2       </td><td>3.0     </td><td>2       </td><td>3.333333</td></tr>\n",
       "\t<tr><td>2       </td><td>4.0     </td><td>1       </td><td>3.666667</td></tr>\n",
       "\t<tr><td>2       </td><td>4.5     </td><td>1       </td><td>3.000000</td></tr>\n",
       "\t<tr><td>4       </td><td>1.0     </td><td>2       </td><td>3.000000</td></tr>\n",
       "</tbody>\n",
       "</table>\n"
      ],
      "text/latex": [
       "\\begin{tabular}{r|llll}\n",
       " seat\\_pref & comp & gender & engage\\\\\n",
       "\\hline\n",
       "\t 1        & 2.0      & 1        & 2.000000\\\\\n",
       "\t 2        & 3.5      & 2        & 2.333333\\\\\n",
       "\t 2        & 3.0      & 2        & 3.333333\\\\\n",
       "\t 2        & 4.0      & 1        & 3.666667\\\\\n",
       "\t 2        & 4.5      & 1        & 3.000000\\\\\n",
       "\t 4        & 1.0      & 2        & 3.000000\\\\\n",
       "\\end{tabular}\n"
      ],
      "text/markdown": [
       "\n",
       "seat_pref | comp | gender | engage | \n",
       "|---|---|---|---|---|---|\n",
       "| 1        | 2.0      | 1        | 2.000000 | \n",
       "| 2        | 3.5      | 2        | 2.333333 | \n",
       "| 2        | 3.0      | 2        | 3.333333 | \n",
       "| 2        | 4.0      | 1        | 3.666667 | \n",
       "| 2        | 4.5      | 1        | 3.000000 | \n",
       "| 4        | 1.0      | 2        | 3.000000 | \n",
       "\n",
       "\n"
      ],
      "text/plain": [
       "  seat_pref comp gender engage  \n",
       "1 1         2.0  1      2.000000\n",
       "2 2         3.5  2      2.333333\n",
       "3 2         3.0  2      3.333333\n",
       "4 2         4.0  1      3.666667\n",
       "5 2         4.5  1      3.000000\n",
       "6 4         1.0  2      3.000000"
      ]
     },
     "metadata": {},
     "output_type": "display_data"
    }
   ],
   "source": [
    "head(data)"
   ]
  },
  {
   "cell_type": "code",
   "execution_count": 43,
   "metadata": {},
   "outputs": [
    {
     "data": {},
     "metadata": {},
     "output_type": "display_data"
    },
    {
     "data": {
      "image/png": "[encoded data removed]",
      "text/plain": [
       "plot without title"
      ]
     },
     "metadata": {},
     "output_type": "display_data"
    }
   ],
   "source": [
    "options(repr.plot.width=4, repr.plot.height=3)\n",
    "\n",
    "# histograph of competitiveness\n",
    "ggplot(data=data) +\n",
    "  geom_histogram(aes(comp), bins = 5) + \n",
    "  theme_bw() +\n",
    "  xlab(\"Competitiveness\")"
   ]
  },
  {
   "cell_type": "markdown",
   "metadata": {},
   "source": [
    "**Notes**\n",
    "\n",
    "Distribution of competitiveness is approximately normally distributed with a mean of 3. There are less then 5 values for each extreme category. \n",
    "\n"
   ]
  },
  {
   "cell_type": "code",
   "execution_count": 34,
   "metadata": {},
   "outputs": [
    {
     "data": {},
     "metadata": {},
     "output_type": "display_data"
    },
    {
     "data": {
      "text/html": [
       "<table>\n",
       "<thead><tr><th scope=col>gender</th><th scope=col>n</th></tr></thead>\n",
       "<tbody>\n",
       "\t<tr><td>1 </td><td>34</td></tr>\n",
       "\t<tr><td>2 </td><td>25</td></tr>\n",
       "\t<tr><td>4 </td><td> 5</td></tr>\n",
       "</tbody>\n",
       "</table>\n"
      ],
      "text/latex": [
       "\\begin{tabular}{r|ll}\n",
       " gender & n\\\\\n",
       "\\hline\n",
       "\t 1  & 34\\\\\n",
       "\t 2  & 25\\\\\n",
       "\t 4  &  5\\\\\n",
       "\\end{tabular}\n"
      ],
      "text/markdown": [
       "\n",
       "gender | n | \n",
       "|---|---|---|\n",
       "| 1  | 34 | \n",
       "| 2  | 25 | \n",
       "| 4  |  5 | \n",
       "\n",
       "\n"
      ],
      "text/plain": [
       "  gender n \n",
       "1 1      34\n",
       "2 2      25\n",
       "3 4       5"
      ]
     },
     "metadata": {},
     "output_type": "display_data"
    },
    {
     "data": {
      "image/png": "[encoded data removed]",
      "text/plain": [
       "plot without title"
      ]
     },
     "metadata": {},
     "output_type": "display_data"
    }
   ],
   "source": [
    "options(repr.plot.width=8, repr.plot.height=3)\n",
    "\n",
    "# gender label names\n",
    "label_gender <- c(\"1\"=\"man\" ,\n",
    "                  \"2\"=\"woman\",\n",
    "                  \"3\"=\"other\",\n",
    "                  \"4\"=\"not disclose\"\n",
    "                    )\n",
    "# histograph of competitiveness faceted by gender\n",
    "ggplot(data=data) +\n",
    "  geom_histogram(aes(comp), bins = 5) + \n",
    "  facet_wrap(~gender, labeller = labeller(gender = label_gender)) +\n",
    "  theme_bw() +\n",
    "  xlab(\"Competitiveness\") +\n",
    "  ggtitle(\"Competitiveness faceted by Gender\")\n",
    "\n",
    "data  %>% \n",
    "  group_by(gender)  %>%\n",
    "  summarize(n =n())"
   ]
  },
  {
   "cell_type": "markdown",
   "metadata": {},
   "source": [
    "**Notes**\n",
    "\n",
    "The distribution for each gender has a different shape, while women have a unimodal distribution man has a bimodal distribution with a much low average competitiveness value. The sample size for prefer not to disclose is small and hard to make any claims for. The not disclose values may need to be dropped from the data set since gender is a potential confounding variable for our study.\n"
   ]
  },
  {
   "cell_type": "code",
   "execution_count": 36,
   "metadata": {},
   "outputs": [
    {
     "data": {},
     "metadata": {},
     "output_type": "display_data"
    },
    {
     "data": {
      "text/html": [
       "<table>\n",
       "<thead><tr><th scope=col>seat_pref</th><th scope=col>n</th></tr></thead>\n",
       "<tbody>\n",
       "\t<tr><td>1 </td><td>20</td></tr>\n",
       "\t<tr><td>2 </td><td>28</td></tr>\n",
       "\t<tr><td>3 </td><td>12</td></tr>\n",
       "\t<tr><td>4 </td><td> 4</td></tr>\n",
       "</tbody>\n",
       "</table>\n"
      ],
      "text/latex": [
       "\\begin{tabular}{r|ll}\n",
       " seat\\_pref & n\\\\\n",
       "\\hline\n",
       "\t 1  & 20\\\\\n",
       "\t 2  & 28\\\\\n",
       "\t 3  & 12\\\\\n",
       "\t 4  &  4\\\\\n",
       "\\end{tabular}\n"
      ],
      "text/markdown": [
       "\n",
       "seat_pref | n | \n",
       "|---|---|---|---|\n",
       "| 1  | 20 | \n",
       "| 2  | 28 | \n",
       "| 3  | 12 | \n",
       "| 4  |  4 | \n",
       "\n",
       "\n"
      ],
      "text/plain": [
       "  seat_pref n \n",
       "1 1         20\n",
       "2 2         28\n",
       "3 3         12\n",
       "4 4          4"
      ]
     },
     "metadata": {},
     "output_type": "display_data"
    },
    {
     "data": {
      "image/png": "[encoded data removed]",
      "text/plain": [
       "plot without title"
      ]
     },
     "metadata": {},
     "output_type": "display_data"
    }
   ],
   "source": [
    "options(repr.plot.width=8, repr.plot.height=5)\n",
    "\n",
    "# seating label names\n",
    "label_seat <- c(\"1\"=\"front\" ,\n",
    "                  \"2\"=\"middle\",\n",
    "                  \"3\"=\"back\",\n",
    "                  \"4\"=\"not disclose\"\n",
    "                    )\n",
    "# histograph of competitiveness faceted by seating preference\n",
    "ggplot(data=data) +\n",
    "  geom_histogram(aes(comp), bins = 5) + \n",
    "  facet_wrap(~seat_pref, labeller = labeller(seat_pref = label_seat)) +\n",
    "  theme_bw() +\n",
    "  xlab(\"Competitiveness\") +\n",
    "  ggtitle(\"Competitiveness faceted by Seating Preference\")\n",
    "\n",
    "data  %>% \n",
    "  group_by(seat_pref)  %>%\n",
    "  summarize(n =n())\n",
    "\n",
    "# not used in code, used for reference of what groups mean\n",
    "levels_competitiveness <- c(\"1\"=\"Dislike a great deal\" ,\n",
    "                  \"2\"=\"Dislike somewhat\",\n",
    "                  \"3\"=\"Neither like nor dislike\",\n",
    "                  \"4\"=\"Like somewhat\",\n",
    "                  \"5\"=\"Like a great deal\"\n",
    "                    )"
   ]
  },
  {
   "cell_type": "markdown",
   "metadata": {},
   "source": [
    "**Notes**\n",
    "\n",
    "The most preferred seating location appears to be the middle while the back seems to be the least popular seating location. It is interesting that both the front and middle are both missing an extreme value. For people who prefer to sit in the front there is no one who highly not competitiveness and for people who prefer to side in the middle the is no one who is highly competitiveness. The sample for preference to disclose is very small.\n",
    "\n"
   ]
  },
  {
   "cell_type": "code",
   "execution_count": 51,
   "metadata": {},
   "outputs": [
    {
     "data": {},
     "metadata": {},
     "output_type": "display_data"
    },
    {
     "data": {
      "image/png": "[encoded data removed]",
      "text/plain": [
       "plot without title"
      ]
     },
     "metadata": {},
     "output_type": "display_data"
    }
   ],
   "source": [
    "options(repr.plot.width=6, repr.plot.height=4)\n",
    "ggplot(data=data) +\n",
    "  geom_boxplot(aes(gender, comp)) + \n",
    "  ylab(\"Competitiveness\") +\n",
    "  xlab(\"\") +\n",
    "  theme_bw() +\n",
    "  scale_x_discrete(breaks=c(\"1\",\"2\",\"4\"),\n",
    "        labels=c(\"1\"=\"man\" ,\n",
    "                  \"2\"=\"woman\",\n",
    "                  \"4\"=\"not disclose\"\n",
    "                    ))\n"
   ]
  },
  {
   "cell_type": "code",
   "execution_count": 52,
   "metadata": {},
   "outputs": [
    {
     "data": {},
     "metadata": {},
     "output_type": "display_data"
    },
    {
     "data": {
      "image/png": "[encoded data removed]",
      "text/plain": [
       "plot without title"
      ]
     },
     "metadata": {},
     "output_type": "display_data"
    }
   ],
   "source": [
    "options(repr.plot.width=6, repr.plot.height=4)\n",
    "ggplot(data=data) +\n",
    "  geom_boxplot(aes(seat_pref, comp)) + \n",
    "  ylab(\"Competitiveness\") +\n",
    "  xlab(\"\") +\n",
    "  theme_bw() +\n",
    "  scale_x_discrete(breaks=c(\"1\",\"2\",\"3\", \"4\"),\n",
    "        labels=label_seat)\n"
   ]
  },
  {
   "cell_type": "code",
   "execution_count": 39,
   "metadata": {
    "scrolled": false
   },
   "outputs": [
    {
     "name": "stderr",
     "output_type": "stream",
     "text": [
      "Warning message:\n",
      "\"Removed 1 rows containing missing values (geom_point).\""
     ]
    },
    {
     "data": {},
     "metadata": {},
     "output_type": "display_data"
    },
    {
     "data": {
      "image/png": "[encoded data removed]",
      "text/plain": [
       "plot without title"
      ]
     },
     "metadata": {},
     "output_type": "display_data"
    }
   ],
   "source": [
    "# Scatter plot of competitiveness vs engagement coloured by gender\n",
    "ggplot(data=data) +\n",
    "  geom_jitter(aes(engage, comp, color = gender)) + \n",
    "  theme_bw() +\n",
    "  ylab(\"Competitiveness\") +\n",
    "  xlab(\"Engagement\") +\n",
    "  scale_color_discrete(\"gender\", labels = label_gender)"
   ]
  },
  {
   "cell_type": "markdown",
   "metadata": {},
   "source": [
    "**Notes**\n",
    "\n",
    "The does not appear to be any clear groupings of gender with competitiveness and engagement. There are slightly more man points on the left indicating a lower engagement level then women. The majority of the data is in the middle ranges of both competitiveness and engagement.\n"
   ]
  },
  {
   "cell_type": "code",
   "execution_count": 38,
   "metadata": {},
   "outputs": [
    {
     "name": "stderr",
     "output_type": "stream",
     "text": [
      "Warning message:\n",
      "\"Removed 1 rows containing missing values (geom_point).\""
     ]
    },
    {
     "data": {},
     "metadata": {},
     "output_type": "display_data"
    },
    {
     "data": {
      "image/png": "[encoded data removed]",
      "text/plain": [
       "plot without title"
      ]
     },
     "metadata": {},
     "output_type": "display_data"
    }
   ],
   "source": [
    "# Scatter plot of competitiveness vs engagement coloured by seating preference\n",
    "ggplot(data=data) +\n",
    "  geom_jitter(aes(engage, comp, color = seat_pref, shape=gender)) + \n",
    "  theme_bw() +\n",
    "  ylab(\"Competitiveness\") +\n",
    "  xlab(\"Engage\") +\n",
    "  scale_color_discrete(\"Seating Preference\", labels = label_seat) +\n",
    "  scale_shape_discrete(\"Gender\", labels = label_gender)"
   ]
  },
  {
   "cell_type": "markdown",
   "metadata": {},
   "source": [
    "**Notes**\n",
    "\n",
    "This plot shows all 4 variables. There does not appear to be any clear patterns between all the variables. \n"
   ]
  },
  {
   "cell_type": "code",
   "execution_count": 40,
   "metadata": {
    "scrolled": false
   },
   "outputs": [
    {
     "name": "stderr",
     "output_type": "stream",
     "text": [
      "Warning message:\n",
      "\"Removed 1 rows containing non-finite values (stat_boxplot).\"`stat_bin()` using `bins = 30`. Pick better value with `binwidth`.\n",
      "Warning message in (function (data, mapping, alignPercent = 0.6, method = \"pearson\", :\n",
      "\"Removing 1 row that contained a missing value\"`stat_bin()` using `bins = 30`. Pick better value with `binwidth`.\n",
      "Warning message:\n",
      "\"Removed 1 rows containing non-finite values (stat_boxplot).\"`stat_bin()` using `bins = 30`. Pick better value with `binwidth`.\n",
      "Warning message:\n",
      "\"Removed 1 rows containing non-finite values (stat_bin).\"Warning message:\n",
      "\"Removed 1 rows containing missing values (geom_point).\"`stat_bin()` using `bins = 30`. Pick better value with `binwidth`.\n",
      "Warning message:\n",
      "\"Removed 1 rows containing non-finite values (stat_bin).\"Warning message:\n",
      "\"Removed 1 rows containing non-finite values (stat_density).\""
     ]
    },
    {
     "data": {},
     "metadata": {},
     "output_type": "display_data"
    },
    {
     "data": {
      "image/png": "[encoded data removed]",
      "text/plain": [
       "plot without title"
      ]
     },
     "metadata": {},
     "output_type": "display_data"
    }
   ],
   "source": [
    "options(repr.plot.width=8, repr.plot.height=10)\n",
    "\n",
    "# comparison across all variables \n",
    "ggpairs(data)"
   ]
  },
  {
   "cell_type": "markdown",
   "metadata": {},
   "source": []
  },
  {
   "cell_type": "code",
   "execution_count": null,
   "metadata": {},
   "outputs": [],
   "source": []
  },
  {
   "cell_type": "code",
   "execution_count": null,
   "metadata": {},
   "outputs": [],
   "source": []
  }
 ],
 "metadata": {
  "kernelspec": {
   "display_name": "R",
   "language": "R",
   "name": "ir"
  },
  "language_info": {
   "codemirror_mode": "r",
   "file_extension": ".r",
   "mimetype": "text/x-r-source",
   "name": "R",
   "pygments_lexer": "r",
   "version": "3.5.1"
  }
 },
 "nbformat": 4,
 "nbformat_minor": 2
}
